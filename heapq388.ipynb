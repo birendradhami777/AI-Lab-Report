{
  "nbformat": 4,
  "nbformat_minor": 0,
  "metadata": {
    "colab": {
      "provenance": [],
      "authorship_tag": "ABX9TyPWglMdkOg661U/srCBrXAH",
      "include_colab_link": true
    },
    "kernelspec": {
      "name": "python3",
      "display_name": "Python 3"
    },
    "language_info": {
      "name": "python"
    }
  },
  "cells": [
    {
      "cell_type": "markdown",
      "metadata": {
        "id": "view-in-github",
        "colab_type": "text"
      },
      "source": [
        "<a href=\"https://colab.research.google.com/github/birendradhami777/AI-Lab-Report/blob/main/heapq388.ipynb\" target=\"_parent\"><img src=\"https://colab.research.google.com/assets/colab-badge.svg\" alt=\"Open In Colab\"/></a>"
      ]
    },
    {
      "cell_type": "code",
      "execution_count": 1,
      "metadata": {
        "colab": {
          "base_uri": "https://localhost:8080/"
        },
        "id": "mRGgHc6OJQ4b",
        "outputId": "ce8e1395-8076-4cd3-c64f-1d120e046946"
      },
      "outputs": [
        {
          "output_type": "stream",
          "name": "stdout",
          "text": [
            "Solution found!\n",
            "(1, 2, 3)\n",
            "(4, 0, 5)\n",
            "(7, 8, 6)\n",
            "\n",
            "(1, 2, 3)\n",
            "(4, 5, 0)\n",
            "(7, 8, 6)\n",
            "\n"
          ]
        }
      ],
      "source": [
        "import heapq\n",
        "\n",
        "# Goal state\n",
        "goal_state = ((1, 2, 3),\n",
        "              (4, 5, 6),\n",
        "              (7, 8, 0))\n",
        "\n",
        "# Directions for moving the blank space (up, down, left, right)\n",
        "directions = [(-1, 0), (1, 0), (0, -1), (0, 1)]\n",
        "\n",
        "def manhattan_distance(state):\n",
        "    \"\"\"Calculates the Manhattan distance for a given state.\"\"\"\n",
        "    distance = 0\n",
        "    for i in range(3):\n",
        "        for j in range(3):\n",
        "            value = state[i][j]\n",
        "            if value != 0:\n",
        "                goal_i = (value - 1) // 3\n",
        "                goal_j = (value - 1) % 3\n",
        "                distance += abs(i - goal_i) + abs(j - goal_j)\n",
        "    return distance\n",
        "\n",
        "def is_valid(x, y):\n",
        "    \"\"\"Checks if the coordinates are valid within the grid.\"\"\"\n",
        "    return 0 <= x < 3 and 0 <= y < 3\n",
        "\n",
        "def get_neighbors(state):\n",
        "    \"\"\"Finds the valid neighbors of the current state by moving the blank space.\"\"\"\n",
        "    neighbors = []\n",
        "    blank_pos = [(ix, iy) for ix in range(3) for iy in range(3) if state[ix][iy] == 0][0]\n",
        "    x, y = blank_pos\n",
        "\n",
        "    for dx, dy in directions:\n",
        "        new_x, new_y = x + dx, y + dy\n",
        "        if is_valid(new_x, new_y):\n",
        "            # Swap blank space with the target\n",
        "            new_state = [list(row) for row in state]  # Make a copy of the state\n",
        "            new_state[x][y], new_state[new_x][new_y] = new_state[new_x][new_y], new_state[x][y]\n",
        "            neighbors.append((tuple(tuple(row) for row in new_state), (new_x, new_y)))\n",
        "\n",
        "    return neighbors\n",
        "\n",
        "def a_star(start_state):\n",
        "    \"\"\"Performs A* search to solve the 8-puzzle.\"\"\"\n",
        "    def reconstruct_path(came_from, current):\n",
        "        path = []\n",
        "        while current in came_from:\n",
        "            current = came_from[current]\n",
        "            path.append(current)\n",
        "        return path[::-1]\n",
        "\n",
        "    # Priority queue with (f(n), g(n), state)\n",
        "    open_list = []\n",
        "    heapq.heappush(open_list, (manhattan_distance(start_state), 0, start_state))\n",
        "\n",
        "    # To track the path\n",
        "    came_from = {}\n",
        "\n",
        "    # To track the cost of reaching a state\n",
        "    g_cost = {start_state: 0}\n",
        "\n",
        "    while open_list:\n",
        "        _, g, current_state = heapq.heappop(open_list)\n",
        "\n",
        "        # If the goal state is reached\n",
        "        if current_state == goal_state:\n",
        "            return reconstruct_path(came_from, current_state)\n",
        "\n",
        "        # Get the neighbors of the current state\n",
        "        for neighbor_state, _ in get_neighbors(current_state):\n",
        "            new_g = g + 1\n",
        "            if neighbor_state not in g_cost or new_g < g_cost[neighbor_state]:\n",
        "                g_cost[neighbor_state] = new_g\n",
        "                f = new_g + manhattan_distance(neighbor_state)\n",
        "                heapq.heappush(open_list, (f, new_g, neighbor_state))\n",
        "                came_from[neighbor_state] = current_state\n",
        "\n",
        "    return None  # No solution found\n",
        "\n",
        "def print_state(state):\n",
        "    \"\"\"Prints the state in a 3x3 grid format.\"\"\"\n",
        "    for row in state:\n",
        "        print(row)\n",
        "\n",
        "if __name__ == \"__main__\":\n",
        "    start_state = ((1, 2, 3),\n",
        "                   (4, 0, 5),\n",
        "                   (7, 8, 6))\n",
        "\n",
        "    solution = a_star(start_state)\n",
        "    if solution:\n",
        "        print(\"Solution found!\")\n",
        "        for state in solution:\n",
        "            print_state(state)\n",
        "            print()\n",
        "    else:\n",
        "        print(\"No solution exists.\")\n",
        "\n",
        ""
      ]
    }
  ]
}