{
  "nbformat": 4,
  "nbformat_minor": 0,
  "metadata": {
    "colab": {
      "provenance": [],
      "include_colab_link": true
    },
    "kernelspec": {
      "name": "python3",
      "display_name": "Python 3"
    },
    "language_info": {
      "name": "python"
    }
  },
  "cells": [
    {
      "cell_type": "markdown",
      "metadata": {
        "id": "view-in-github",
        "colab_type": "text"
      },
      "source": [
        "<a href=\"https://colab.research.google.com/github/birendradhami777/AI-Lab-Report/blob/main/Labexam_pratice_questions.ipynb\" target=\"_parent\"><img src=\"https://colab.research.google.com/assets/colab-badge.svg\" alt=\"Open In Colab\"/></a>"
      ]
    },
    {
      "cell_type": "code",
      "execution_count": null,
      "metadata": {
        "colab": {
          "base_uri": "https://localhost:8080/"
        },
        "id": "bD1oZx8aNJyq",
        "outputId": "a8a6771e-62c3-478c-f4f4-def382a31c1a"
      },
      "outputs": [
        {
          "output_type": "stream",
          "name": "stdout",
          "text": [
            "Initial State: Room A: dirty, Room B: clean, Current Room: A\n",
            "Cleaning Room A...\n",
            "Final State: Room A: clean, Room B: clean, Current Room: B\n"
          ]
        }
      ],
      "source": [
        "#Question no 6\n",
        "def vacuum_agent(room_a, room_b, current_room):\n",
        "    print(f\"Initial State: Room A: {room_a}, Room B: {room_b}, Current Room: {current_room}\")\n",
        "\n",
        "    if current_room == 'A':\n",
        "        if room_a == 'dirty':\n",
        "            print(\"Cleaning Room A...\")\n",
        "            room_a = 'clean'\n",
        "        current_room = 'B'\n",
        "    elif current_room == 'B':\n",
        "        if room_b == 'dirty':\n",
        "            print(\"Cleaning Room B...\")\n",
        "            room_b = 'clean'\n",
        "        current_room = 'A'\n",
        "\n",
        "    print(f\"Final State: Room A: {room_a}, Room B: {room_b}, Current Room: {current_room}\")\n",
        "\n",
        "# Example usage\n",
        "vacuum_agent('dirty', 'clean', 'A')\n"
      ]
    },
    {
      "cell_type": "code",
      "source": [
        "#Question no 6\n",
        "def heuristic_block(arrangement, goal):\n",
        "    misplaced = 0\n",
        "    for i, block in enumerate(arrangement):\n",
        "        if block != goal[i]:\n",
        "            misplaced += 1\n",
        "    return misplaced\n",
        "\n",
        "# Example\n",
        "arrangement = ['B', 'C', 'A', 'D']\n",
        "goal = ['A', 'B', 'C', 'D']\n",
        "print(\"Misplaced Blocks:\", heuristic_block(arrangement, goal))\n"
      ],
      "metadata": {
        "colab": {
          "base_uri": "https://localhost:8080/"
        },
        "id": "lpdDhPsYOMAx",
        "outputId": "9e9f7c23-be61-43c9-e8c7-93b18405cb35"
      },
      "execution_count": null,
      "outputs": [
        {
          "output_type": "stream",
          "name": "stdout",
          "text": [
            "Misplaced Blocks: 3\n"
          ]
        }
      ]
    },
    {
      "cell_type": "code",
      "source": [
        "#Question no 8\n",
        "import numpy as np\n",
        "\n",
        "def perceptron_train(X, y, epochs=10, lr=0.1):\n",
        "    weights = np.random.rand(X.shape[1])\n",
        "    bias = np.random.rand(1)\n",
        "\n",
        "    for _ in range(epochs):\n",
        "        for i in range(len(X)):\n",
        "            y_pred = np.dot(X[i], weights) + bias\n",
        "            error = y[i] - (1 if y_pred > 0 else 0)\n",
        "            weights += lr * error * X[i]\n",
        "            bias += lr * error\n",
        "    return weights, bias\n",
        "\n",
        "# Example\n",
        "X = np.array([[0, 0], [0, 1], [1, 0], [1, 1]])\n",
        "y = np.array([0, 0, 0, 1])  # AND Gate\n",
        "weights, bias = perceptron_train(X, y)\n",
        "print(f\"Weights: {weights}, Bias: {bias}\")\n"
      ],
      "metadata": {
        "colab": {
          "base_uri": "https://localhost:8080/"
        },
        "id": "IO6UUvZROYzQ",
        "outputId": "2598893d-88c3-406a-e8b1-7c033268324e"
      },
      "execution_count": null,
      "outputs": [
        {
          "output_type": "stream",
          "name": "stdout",
          "text": [
            "Weights: [0.37367577 0.25614539], Bias: [-0.55554268]\n"
          ]
        }
      ]
    },
    {
      "cell_type": "code",
      "source": [
        "#Question no 8\n",
        "def linear_regression(X, y, lr=0.01, epochs=1000):\n",
        "    n = len(X)\n",
        "    m, b = 0, 0  # Initialize slope and intercept\n",
        "\n",
        "    for _ in range(epochs):\n",
        "        y_pred = m * X + b\n",
        "        dm = (-2/n) * sum(X * (y - y_pred))\n",
        "        db = (-2/n) * sum(y - y_pred)\n",
        "        m -= lr * dm\n",
        "        b -= lr * db\n",
        "    return m, b\n",
        "\n",
        "# Example\n",
        "X = np.array([1, 2, 3, 4])\n",
        "y = np.array([2, 4, 6, 8])\n",
        "m, b = linear_regression(X, y)\n",
        "print(f\"Slope: {m}, Intercept: {b}\")\n"
      ],
      "metadata": {
        "colab": {
          "base_uri": "https://localhost:8080/"
        },
        "id": "ffjO_M3gOljH",
        "outputId": "e03939b8-b6a4-4979-f82f-17db09fe4c63"
      },
      "execution_count": null,
      "outputs": [
        {
          "output_type": "stream",
          "name": "stdout",
          "text": [
            "Slope: 1.9896587550255742, Intercept: 0.030404521305361965\n"
          ]
        }
      ]
    },
    {
      "cell_type": "code",
      "source": [
        "#Question no9\n",
        "def linear_regression(X, y, lr=0.01, epochs=1000):\n",
        "    n = len(X)\n",
        "    m, b = 0, 0  # Initialize slope and intercept\n",
        "\n",
        "    for _ in range(epochs):\n",
        "        y_pred = m * X + b\n",
        "        dm = (-2/n) * sum(X * (y - y_pred))\n",
        "        db = (-2/n) * sum(y - y_pred)\n",
        "        m -= lr * dm\n",
        "        b -= lr * db\n",
        "    return m, b\n",
        "\n",
        "# Example\n",
        "X = np.array([1, 2, 3, 4])\n",
        "y = np.array([2, 4, 6, 8])\n",
        "m, b = linear_regression(X, y)\n",
        "print(f\"Slope: {m}, Intercept: {b}\")\n"
      ],
      "metadata": {
        "colab": {
          "base_uri": "https://localhost:8080/"
        },
        "id": "iN0YNXCROsvF",
        "outputId": "ff67eb06-d6c6-4433-cf05-256cb7fdeb9f"
      },
      "execution_count": null,
      "outputs": [
        {
          "output_type": "stream",
          "name": "stdout",
          "text": [
            "Slope: 1.9896587550255742, Intercept: 0.030404521305361965\n"
          ]
        }
      ]
    },
    {
      "cell_type": "code",
      "source": [
        "#Question no 10\n",
        "def heuristic_8_puzzle(state, goal):\n",
        "    cost = 0\n",
        "    for i in range(3):\n",
        "        for j in range(3):\n",
        "            if state[i][j] != goal[i][j] and state[i][j] != 0:\n",
        "                cost += 1\n",
        "    return cost\n",
        "\n",
        "# Example\n",
        "state = [[1, 2, 3], [4, 0, 5], [7, 8, 6]]\n",
        "goal = [[1, 2, 3], [4, 5, 6], [7, 8, 0]]\n",
        "print(\"Misplaced Tiles:\", heuristic_8_puzzle(state, goal))\n"
      ],
      "metadata": {
        "colab": {
          "base_uri": "https://localhost:8080/"
        },
        "id": "5BTpPS5vO547",
        "outputId": "4101b18c-85da-4f05-b7bf-f142dd63bcc1"
      },
      "execution_count": null,
      "outputs": [
        {
          "output_type": "stream",
          "name": "stdout",
          "text": [
            "Misplaced Tiles: 2\n"
          ]
        }
      ]
    }
  ]
}