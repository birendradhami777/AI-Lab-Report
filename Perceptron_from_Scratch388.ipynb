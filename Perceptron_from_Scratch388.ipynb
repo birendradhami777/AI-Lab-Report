{
  "nbformat": 4,
  "nbformat_minor": 0,
  "metadata": {
    "colab": {
      "provenance": [],
      "authorship_tag": "ABX9TyPGuQpNPFkxsYyvFSXIAoVm",
      "include_colab_link": true
    },
    "kernelspec": {
      "name": "python3",
      "display_name": "Python 3"
    },
    "language_info": {
      "name": "python"
    }
  },
  "cells": [
    {
      "cell_type": "markdown",
      "metadata": {
        "id": "view-in-github",
        "colab_type": "text"
      },
      "source": [
        "<a href=\"https://colab.research.google.com/github/birendradhami777/AI-Lab-Report/blob/main/Perceptron_from_Scratch388.ipynb\" target=\"_parent\"><img src=\"https://colab.research.google.com/assets/colab-badge.svg\" alt=\"Open In Colab\"/></a>"
      ]
    },
    {
      "cell_type": "code",
      "execution_count": 2,
      "metadata": {
        "colab": {
          "base_uri": "https://localhost:8080/"
        },
        "id": "Tln48EAoCBdh",
        "outputId": "5f1b3ecc-3e41-44c7-e486-de7fb44af03c"
      },
      "outputs": [
        {
          "output_type": "stream",
          "name": "stdout",
          "text": [
            "Predictions: [-1 -1 -1  1]\n"
          ]
        }
      ],
      "source": [
        "import numpy as np\n",
        "\n",
        "class Perceptron:\n",
        "    def __init__(self, learning_rate=0.01, n_iterations=1000):\n",
        "        \"\"\"\n",
        "        Initialize the perceptron.\n",
        "\n",
        "        :param learning_rate: The step size for weight updates.\n",
        "        :param n_iterations: The number of iterations to train the model.\n",
        "        \"\"\"\n",
        "        self.learning_rate = learning_rate\n",
        "        self.n_iterations = n_iterations\n",
        "        self.weights = None\n",
        "        self.bias = None\n",
        "\n",
        "    def fit(self, X, y):\n",
        "        \"\"\"\n",
        "        Train the perceptron on the dataset.\n",
        "\n",
        "        :param X: Input features, a numpy array of shape (n_samples, n_features).\n",
        "        :param y: Target labels, a numpy array of shape (n_samples,).\n",
        "        \"\"\"\n",
        "        n_samples, n_features = X.shape\n",
        "\n",
        "        # Initialize weights and bias\n",
        "        self.weights = np.zeros(n_features)\n",
        "        self.bias = 0\n",
        "\n",
        "        # Convert y to binary (-1, 1) if not already\n",
        "        y = np.where(y <= 0, -1, 1)\n",
        "\n",
        "        for _ in range(self.n_iterations):\n",
        "            for idx, x_i in enumerate(X):\n",
        "                linear_output = np.dot(x_i, self.weights) + self.bias\n",
        "                y_pred = self._activation(linear_output)\n",
        "\n",
        "                # Update weights and bias if prediction is incorrect\n",
        "                if y[idx] != y_pred:\n",
        "                    update = self.learning_rate * y[idx]\n",
        "                    self.weights += update * x_i\n",
        "                    self.bias += update\n",
        "\n",
        "    def predict(self, X):\n",
        "        \"\"\"\n",
        "        Predict the class labels for input samples.\n",
        "\n",
        "        :param X: Input features, a numpy array of shape (n_samples, n_features).\n",
        "        :return: Predicted labels, a numpy array of shape (n_samples,).\n",
        "        \"\"\"\n",
        "        linear_output = np.dot(X, self.weights) + self.bias\n",
        "        return self._activation(linear_output)\n",
        "\n",
        "    def _activation(self, x):\n",
        "        \"\"\"\n",
        "        Step activation function.\n",
        "\n",
        "        :param x: Linear output.\n",
        "        :return: Activated output (-1 or 1).\n",
        "        \"\"\"\n",
        "        return np.where(x >= 0, 1, -1)\n",
        "\n",
        "# Example usage\n",
        "if __name__ == \"__main__\":\n",
        "    # Example dataset (AND logic gate)\n",
        "    X = np.array([\n",
        "        [0, 0],\n",
        "        [0, 1],\n",
        "        [1, 0],\n",
        "        [1, 1]\n",
        "    ])\n",
        "    y = np.array([0, 0, 0, 1])  # AND gate output\n",
        "\n",
        "    # Initialize and train perceptron\n",
        "    perceptron = Perceptron(learning_rate=0.1, n_iterations=10)\n",
        "    perceptron.fit(X, y)\n",
        "\n",
        "    # Test predictions\n",
        "    predictions = perceptron.predict(X)\n",
        "    print(\"Predictions:\", predictions)\n"
      ]
    }
  ]
}