{
  "nbformat": 4,
  "nbformat_minor": 0,
  "metadata": {
    "colab": {
      "provenance": [],
      "authorship_tag": "ABX9TyNP/l649aXsp6SwEngwKqj0",
      "include_colab_link": true
    },
    "kernelspec": {
      "name": "python3",
      "display_name": "Python 3"
    },
    "language_info": {
      "name": "python"
    }
  },
  "cells": [
    {
      "cell_type": "markdown",
      "metadata": {
        "id": "view-in-github",
        "colab_type": "text"
      },
      "source": [
        "<a href=\"https://colab.research.google.com/github/birendradhami777/AI-Lab-Report/blob/main/CityMap388.ipynb\" target=\"_parent\"><img src=\"https://colab.research.google.com/assets/colab-badge.svg\" alt=\"Open In Colab\"/></a>"
      ]
    },
    {
      "cell_type": "code",
      "execution_count": 1,
      "metadata": {
        "colab": {
          "base_uri": "https://localhost:8080/"
        },
        "id": "zd08OYXWIDWX",
        "outputId": "32f560b4-9db1-4248-eeb5-63e6f82813d7"
      },
      "outputs": [
        {
          "output_type": "stream",
          "name": "stdout",
          "text": [
            "Performing BFS:\n",
            "BFS Path: ['A', 'B', 'E']\n",
            "\n",
            "Performing DFS:\n",
            "DFS Path: ['A', 'C', 'D', 'E']\n"
          ]
        }
      ],
      "source": [
        "class CityMap:\n",
        "    def __init__(self):\n",
        "        self.graph = {}\n",
        "\n",
        "    def add_road(self, city1, city2, distance):\n",
        "        \"\"\"Add a road (edge) between two cities (nodes) with a distance (weight).\"\"\"\n",
        "        if city1 not in self.graph:\n",
        "            self.graph[city1] = []\n",
        "        if city2 not in self.graph:\n",
        "            self.graph[city2] = []\n",
        "        self.graph[city1].append((city2, distance))\n",
        "        self.graph[city2].append((city1, distance))  # Assuming undirected graph\n",
        "\n",
        "    def bfs(self, start, goal):\n",
        "        \"\"\"Perform Breadth-First Search to find the shortest path.\"\"\"\n",
        "        from collections import deque\n",
        "\n",
        "        open_list = deque([(start, [start])])  # (current_city, path)\n",
        "        visited = set()\n",
        "\n",
        "        while open_list:\n",
        "            current_city, path = open_list.popleft()\n",
        "\n",
        "            if current_city in visited:\n",
        "                continue\n",
        "\n",
        "            visited.add(current_city)\n",
        "\n",
        "            if current_city == goal:\n",
        "                return path\n",
        "\n",
        "            for neighbor, _ in self.graph.get(current_city, []):\n",
        "                if neighbor not in visited:\n",
        "                    open_list.append((neighbor, path + [neighbor]))\n",
        "\n",
        "        return None  # No path found\n",
        "\n",
        "    def dfs(self, start, goal):\n",
        "        \"\"\"Perform Depth-First Search to find a path.\"\"\"\n",
        "        open_list = [(start, [start])]  # (current_city, path)\n",
        "        visited = set()\n",
        "\n",
        "        while open_list:\n",
        "            current_city, path = open_list.pop()\n",
        "\n",
        "            if current_city in visited:\n",
        "                continue\n",
        "\n",
        "            visited.add(current_city)\n",
        "\n",
        "            if current_city == goal:\n",
        "                return path\n",
        "\n",
        "            for neighbor, _ in self.graph.get(current_city, []):\n",
        "                if neighbor not in visited:\n",
        "                    open_list.append((neighbor, path + [neighbor]))\n",
        "\n",
        "        return None  # No path found\n",
        "\n",
        "# Example usage\n",
        "city_map = CityMap()\n",
        "\n",
        "# Add roads (edges)\n",
        "city_map.add_road(\"A\", \"B\", 5)\n",
        "city_map.add_road(\"A\", \"C\", 10)\n",
        "city_map.add_road(\"B\", \"D\", 8)\n",
        "city_map.add_road(\"C\", \"D\", 2)\n",
        "city_map.add_road(\"B\", \"E\", 7)\n",
        "city_map.add_road(\"D\", \"E\", 3)\n",
        "\n",
        "# Perform BFS\n",
        "print(\"Performing BFS:\")\n",
        "path_bfs = city_map.bfs(\"A\", \"E\")\n",
        "print(\"BFS Path:\", path_bfs)\n",
        "\n",
        "# Perform DFS\n",
        "print(\"\\nPerforming DFS:\")\n",
        "path_dfs = city_map.dfs(\"A\", \"E\")\n",
        "print(\"DFS Path:\", path_dfs)\n",
        ""
      ]
    }
  ]
}