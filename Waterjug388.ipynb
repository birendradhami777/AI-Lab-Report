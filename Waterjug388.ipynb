{
  "nbformat": 4,
  "nbformat_minor": 0,
  "metadata": {
    "colab": {
      "provenance": [],
      "authorship_tag": "ABX9TyO63SgOa6K2x8bxT9yCUHYJ",
      "include_colab_link": true
    },
    "kernelspec": {
      "name": "python3",
      "display_name": "Python 3"
    },
    "language_info": {
      "name": "python"
    }
  },
  "cells": [
    {
      "cell_type": "markdown",
      "metadata": {
        "id": "view-in-github",
        "colab_type": "text"
      },
      "source": [
        "<a href=\"https://colab.research.google.com/github/birendradhami777/AI-Lab-Report/blob/main/Waterjug388.ipynb\" target=\"_parent\"><img src=\"https://colab.research.google.com/assets/colab-badge.svg\" alt=\"Open In Colab\"/></a>"
      ]
    },
    {
      "cell_type": "code",
      "execution_count": 1,
      "metadata": {
        "colab": {
          "base_uri": "https://localhost:8080/"
        },
        "id": "U3mBy73yHnxa",
        "outputId": "2f39f28f-bc58-4e19-8759-743250ed018a"
      },
      "outputs": [
        {
          "output_type": "stream",
          "name": "stdout",
          "text": [
            "Testing successor function:\n",
            "Successors of (4, 0): [(4, 3), (0, 0), (1, 3)]\n",
            "\n",
            "Performing DFS:\n",
            "Solution using DFS: [(4, 0), (1, 3), (1, 0), (0, 1), (0, 0), (0, 3), (3, 0), (3, 3), (4, 2), (0, 2), (2, 0)]\n",
            "\n",
            "Performing BFS:\n",
            "Solution using BFS: [(4, 0), (1, 3), (1, 0), (0, 1), (4, 1), (2, 3), (2, 0)]\n"
          ]
        }
      ],
      "source": [
        "class WaterJug:\n",
        "    def __init__(self, initial_state, goal_state):\n",
        "        self.initial_state = initial_state  # (4-litre jug, 3-litre jug)\n",
        "        self.goal_state = goal_state\n",
        "\n",
        "    def goalTest(self, current_state):\n",
        "        \"\"\"Check if the current state matches the goal state.\"\"\"\n",
        "        return current_state == self.goal_state\n",
        "\n",
        "    def successor(self, state):\n",
        "        \"\"\"Generate all possible successor states based on the rules.\"\"\"\n",
        "        successors = []\n",
        "        a, b = state\n",
        "\n",
        "        # Fill 4-litre jug\n",
        "        if a < 4:\n",
        "            successors.append((4, b))\n",
        "\n",
        "        # Fill 3-litre jug\n",
        "        if b < 3:\n",
        "            successors.append((a, 3))\n",
        "\n",
        "        # Empty 4-litre jug\n",
        "        if a > 0:\n",
        "            successors.append((0, b))\n",
        "\n",
        "        # Empty 3-litre jug\n",
        "        if b > 0:\n",
        "            successors.append((a, 0))\n",
        "\n",
        "        # Pour water from 4-litre to 3-litre jug\n",
        "        transfer = min(a, 3 - b)\n",
        "        if transfer > 0:\n",
        "            successors.append((a - transfer, b + transfer))\n",
        "\n",
        "        # Pour water from 3-litre to 4-litre jug\n",
        "        transfer = min(b, 4 - a)\n",
        "        if transfer > 0:\n",
        "            successors.append((a + transfer, b - transfer))\n",
        "\n",
        "        return successors\n",
        "\n",
        "    def generate_path(self, closed_list, current_state):\n",
        "        \"\"\"Generate the path from the initial state to the goal state.\"\"\"\n",
        "        path = []\n",
        "        while current_state is not None:\n",
        "            path.append(current_state)\n",
        "            current_state = closed_list[current_state]\n",
        "        return path[::-1]\n",
        "\n",
        "    def search(self, method=\"DFS\"):\n",
        "        \"\"\"Search for the solution using DFS or BFS.\"\"\"\n",
        "        open_list = [(self.initial_state, None)]  # (state, parent)\n",
        "        closed_list = {}  # state -> parent\n",
        "\n",
        "        while open_list:\n",
        "            if method == \"DFS\":\n",
        "                current_state, parent = open_list.pop()  # DFS uses stack (LIFO)\n",
        "            elif method == \"BFS\":\n",
        "                current_state, parent = open_list.pop(0)  # BFS uses queue (FIFO)\n",
        "\n",
        "            if current_state in closed_list:\n",
        "                continue\n",
        "\n",
        "            closed_list[current_state] = parent\n",
        "\n",
        "            if self.goalTest(current_state):\n",
        "                return self.generate_path(closed_list, current_state)\n",
        "\n",
        "            for child_state in self.successor(current_state):\n",
        "                if child_state not in closed_list:\n",
        "                    open_list.append((child_state, current_state))\n",
        "\n",
        "        return None  # No solution found\n",
        "\n",
        "# Example usage\n",
        "initial_state = (4, 0)  # 4-litre jug full, 3-litre jug empty\n",
        "goal_state = (2, 0)  # 4-litre jug with 2 litres, 3-litre jug empty\n",
        "\n",
        "water_jug = WaterJug(initial_state, goal_state)\n",
        "\n",
        "# Test successor function\n",
        "print(\"Testing successor function:\")\n",
        "print(\"Successors of (4, 0):\", water_jug.successor((4, 0)))\n",
        "\n",
        "# Perform DFS search\n",
        "print(\"\\nPerforming DFS:\")\n",
        "solution_dfs = water_jug.search(method=\"DFS\")\n",
        "print(\"Solution using DFS:\", solution_dfs)\n",
        "\n",
        "# Perform BFS search\n",
        "print(\"\\nPerforming BFS:\")\n",
        "solution_bfs = water_jug.search(method=\"BFS\")\n",
        "print(\"Solution using BFS:\", solution_bfs)\n",
        "\n",
        ""
      ]
    }
  ]
}