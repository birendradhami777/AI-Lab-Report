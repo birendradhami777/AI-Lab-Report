{
  "nbformat": 4,
  "nbformat_minor": 0,
  "metadata": {
    "colab": {
      "provenance": [],
      "authorship_tag": "ABX9TyNTIoI3NpZyefg2qSFiTpmU",
      "include_colab_link": true
    },
    "kernelspec": {
      "name": "python3",
      "display_name": "Python 3"
    },
    "language_info": {
      "name": "python"
    }
  },
  "cells": [
    {
      "cell_type": "markdown",
      "metadata": {
        "id": "view-in-github",
        "colab_type": "text"
      },
      "source": [
        "<a href=\"https://colab.research.google.com/github/birendradhami777/AI-Lab-Report/blob/main/CopyReflexagent388.ipynb\" target=\"_parent\"><img src=\"https://colab.research.google.com/assets/colab-badge.svg\" alt=\"Open In Colab\"/></a>"
      ]
    },
    {
      "cell_type": "code",
      "execution_count": 2,
      "metadata": {
        "colab": {
          "base_uri": "https://localhost:8080/"
        },
        "id": "YqQsg6F9F8cN",
        "outputId": "dcdc7b0d-c147-4d83-cc2c-d156f07497c8"
      },
      "outputs": [
        {
          "output_type": "stream",
          "name": "stdout",
          "text": [
            "Percept: A, Action: Action1\n",
            "Percept: B, Action: Action2\n",
            "Percept: A, Action: Action1\n",
            "Percept: C, Action: Action3\n",
            "Percept: B, Action: Action2\n",
            "Percept: B, Action: Action2\n",
            "Percept: A, Action: Action1\n"
          ]
        }
      ],
      "source": [
        "class CopyReflexAgent:\n",
        "    def __init__(self):\n",
        "        self.last_percept = None\n",
        "        self.last_action = None\n",
        "\n",
        "    def perceive(self, percept):\n",
        "        \"\"\"Receive a percept and decide on an action.\"\"\"\n",
        "        if percept == self.last_percept:\n",
        "            # If the percept is the same as the last one, repeat the last action\n",
        "            action = self.last_action\n",
        "        else:\n",
        "            # Otherwise, choose a new action based on the percept\n",
        "            action = self.decide_action(percept)\n",
        "\n",
        "        # Update the last percept and action\n",
        "        self.last_percept = percept\n",
        "        self.last_action = action\n",
        "\n",
        "        return action\n",
        "\n",
        "    def decide_action(self, percept):\n",
        "        \"\"\"Decide an action based on the current percept.\"\"\"\n",
        "        # Simple decision-making based on percept\n",
        "        if percept == \"A\":\n",
        "            return \"Action1\"\n",
        "        elif percept == \"B\":\n",
        "            return \"Action2\"\n",
        "        elif percept == \"C\":\n",
        "            return \"Action3\"\n",
        "        else:\n",
        "            return \"NoAction\"\n",
        "\n",
        "# Example usage\n",
        "if __name__ == \"__main__\":\n",
        "    agent = CopyReflexAgent()\n",
        "\n",
        "    # Simulate a series of percepts\n",
        "    percepts = [\"A\", \"B\", \"A\", \"C\", \"B\", \"B\", \"A\"]\n",
        "\n",
        "    for percept in percepts:\n",
        "        action = agent.perceive(percept)\n",
        "        print(f\"Percept: {percept}, Action: {action}\")"
      ]
    }
  ]
}