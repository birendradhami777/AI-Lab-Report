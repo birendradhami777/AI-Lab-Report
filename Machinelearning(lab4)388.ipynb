{
  "nbformat": 4,
  "nbformat_minor": 0,
  "metadata": {
    "colab": {
      "provenance": [],
      "include_colab_link": true
    },
    "kernelspec": {
      "name": "python3",
      "display_name": "Python 3"
    },
    "language_info": {
      "name": "python"
    }
  },
  "cells": [
    {
      "cell_type": "markdown",
      "metadata": {
        "id": "view-in-github",
        "colab_type": "text"
      },
      "source": [
        "<a href=\"https://colab.research.google.com/github/birendradhami777/AI-Lab-Report/blob/main/Machinelearning(lab4)388.ipynb\" target=\"_parent\"><img src=\"https://colab.research.google.com/assets/colab-badge.svg\" alt=\"Open In Colab\"/></a>"
      ]
    },
    {
      "cell_type": "code",
      "execution_count": 1,
      "metadata": {
        "colab": {
          "base_uri": "https://localhost:8080/"
        },
        "id": "6vPIUvKVE_PN",
        "outputId": "832076a5-ec37-4cd1-87d8-9c5df6ce1747"
      },
      "outputs": [
        {
          "output_type": "stream",
          "name": "stdout",
          "text": [
            "Trained weights: [0.19231927 0.02352978], Bias: [-0.19277694]\n"
          ]
        }
      ],
      "source": [
        "#AND GATE\n",
        "import numpy as np\n",
        "\n",
        "def perceptron_AND():\n",
        "    inputs = np.array([[0, 0], [0, 1], [1, 0], [1, 1]])\n",
        "    outputs = np.array([0, 0, 0, 1])  # AND Gate\n",
        "    weights = np.random.rand(2)\n",
        "    bias = np.random.rand(1)\n",
        "    lr = 0.1  # Learning rate\n",
        "\n",
        "    for epoch in range(10):\n",
        "        for i, x in enumerate(inputs):\n",
        "            y = np.dot(x, weights) + bias\n",
        "            prediction = 1 if y > 0 else 0\n",
        "            error = outputs[i] - prediction\n",
        "            weights += lr * error * x\n",
        "            bias += lr * error\n",
        "\n",
        "    return weights, bias\n",
        "\n",
        "weights, bias = perceptron_AND()\n",
        "print(f\"Trained weights: {weights}, Bias: {bias}\")\n"
      ]
    },
    {
      "cell_type": "code",
      "source": [
        "#OR GATE\n",
        "def perceptron_OR():\n",
        "    inputs = np.array([[0, 0], [0, 1], [1, 0], [1, 1]])\n",
        "    outputs = np.array([0, 1, 1, 1])  # OR Gate\n",
        "    weights = np.random.rand(2)\n",
        "    bias = np.random.rand(1)\n",
        "    lr = 0.1\n",
        "\n",
        "    for epoch in range(10):\n",
        "        for i, x in enumerate(inputs):\n",
        "            y = np.dot(x, weights) + bias\n",
        "            prediction = 1 if y > 0 else 0\n",
        "            error = outputs[i] - prediction\n",
        "            weights += lr * error * x\n",
        "            bias += lr * error\n",
        "\n",
        "    return weights, bias\n",
        "\n",
        "weights, bias = perceptron_OR()\n",
        "print(f\"Trained weights: {weights}, Bias: {bias}\")\n"
      ],
      "metadata": {
        "colab": {
          "base_uri": "https://localhost:8080/"
        },
        "id": "MyvfSE42FXsk",
        "outputId": "20d18e95-2223-4a39-d8c1-77e646a5f921"
      },
      "execution_count": 2,
      "outputs": [
        {
          "output_type": "stream",
          "name": "stdout",
          "text": [
            "Trained weights: [0.845954   0.15967053], Bias: [-0.01643344]\n"
          ]
        }
      ]
    },
    {
      "cell_type": "code",
      "source": [
        "#XOR GATE\n",
        "from sklearn.neural_network import MLPClassifier\n",
        "\n",
        "def perceptron_XOR():\n",
        "    inputs = np.array([[0, 0], [0, 1], [1, 0], [1, 1]])\n",
        "    outputs = np.array([0, 1, 1, 0])  # XOR Gate\n",
        "    model = MLPClassifier(hidden_layer_sizes=(2,), activation='relu', max_iter=1000)\n",
        "    model.fit(inputs, outputs)\n",
        "    return model\n",
        "\n",
        "model = perceptron_XOR()\n",
        "print(\"Trained XOR perceptron.\")\n"
      ],
      "metadata": {
        "colab": {
          "base_uri": "https://localhost:8080/"
        },
        "id": "ZZoDt_9cFtz2",
        "outputId": "aecaec8f-86d4-49ea-f2a6-947c4ce77bb1"
      },
      "execution_count": null,
      "outputs": [
        {
          "output_type": "stream",
          "name": "stdout",
          "text": [
            "Trained XOR perceptron.\n"
          ]
        },
        {
          "output_type": "stream",
          "name": "stderr",
          "text": [
            "/usr/local/lib/python3.11/dist-packages/sklearn/neural_network/_multilayer_perceptron.py:691: ConvergenceWarning: Stochastic Optimizer: Maximum iterations (1000) reached and the optimization hasn't converged yet.\n",
            "  warnings.warn(\n"
          ]
        }
      ]
    },
    {
      "cell_type": "code",
      "source": [
        "#NOT GATE\n",
        "def perceptron_NOT():\n",
        "    inputs = np.array([0, 1])\n",
        "    outputs = np.array([1, 0])  # NOT Gate\n",
        "    weights = np.random.rand(1)\n",
        "    bias = np.random.rand(1)\n",
        "    lr = 0.1\n",
        "\n",
        "    for epoch in range(10):\n",
        "        for i, x in enumerate(inputs):\n",
        "            y = x * weights + bias\n",
        "            prediction = 1 if y > 0 else 0\n",
        "            error = outputs[i] - prediction\n",
        "            weights += lr * error * x\n",
        "            bias += lr * error\n",
        "\n",
        "    return weights, bias\n",
        "\n",
        "weights, bias = perceptron_NOT()\n",
        "print(f\"Trained weights: {weights}, Bias: {bias}\")\n"
      ],
      "metadata": {
        "colab": {
          "base_uri": "https://localhost:8080/"
        },
        "id": "CjrhL2IEGFEt",
        "outputId": "f54248e8-a13d-4e02-fb64-ed034a23ee9b"
      },
      "execution_count": null,
      "outputs": [
        {
          "output_type": "stream",
          "name": "stdout",
          "text": [
            "Trained weights: [-0.10240394], Bias: [0.06939302]\n"
          ]
        }
      ]
    },
    {
      "cell_type": "code",
      "source": [
        "#K Nearest Neighbors\n",
        "from sklearn.neighbors import KNeighborsClassifier\n",
        "\n",
        "def kNN():\n",
        "    # Example dataset\n",
        "    inputs = [[1, 1], [1, 2], [2, 2], [2, 3], [3, 3]]\n",
        "    outputs = [0, 0, 1, 1, 1]  # Labels\n",
        "    model = KNeighborsClassifier(n_neighbors=3)\n",
        "    model.fit(inputs, outputs)\n",
        "    return model\n",
        "\n",
        "model = kNN()\n",
        "print(\"Trained kNN model.\")\n"
      ],
      "metadata": {
        "colab": {
          "base_uri": "https://localhost:8080/"
        },
        "id": "OeLSxljQGRGz",
        "outputId": "7fdf6aa0-9802-4f29-9fa1-51227f7f3feb"
      },
      "execution_count": null,
      "outputs": [
        {
          "output_type": "stream",
          "name": "stdout",
          "text": [
            "Trained kNN model.\n"
          ]
        }
      ]
    },
    {
      "cell_type": "code",
      "source": [
        "#Support vector system\n",
        "from sklearn.svm import SVC\n",
        "\n",
        "def SVM():\n",
        "    inputs = [[1, 1], [1, 2], [2, 2], [2, 3], [3, 3]]\n",
        "    outputs = [0, 0, 1, 1, 1]\n",
        "    model = SVC(kernel='linear')\n",
        "    model.fit(inputs, outputs)\n",
        "    return model\n",
        "\n",
        "model = SVM()\n",
        "print(\"Trained SVM model.\")\n"
      ],
      "metadata": {
        "colab": {
          "base_uri": "https://localhost:8080/"
        },
        "id": "HVs_BGN2GpoF",
        "outputId": "88e33f88-1bf5-4107-f5db-338043202648"
      },
      "execution_count": null,
      "outputs": [
        {
          "output_type": "stream",
          "name": "stdout",
          "text": [
            "Trained SVM model.\n"
          ]
        }
      ]
    },
    {
      "cell_type": "code",
      "source": [
        "#K Means Clustering\n",
        "from sklearn.cluster import KMeans\n",
        "\n",
        "def kMeans():\n",
        "    inputs = [[1, 1], [1, 2], [2, 2], [2, 3], [3, 3], [10, 10], [10, 11]]\n",
        "    model = KMeans(n_clusters=2, random_state=0)\n",
        "    model.fit(inputs)\n",
        "    return model\n",
        "\n",
        "model = kMeans()\n",
        "print(\"Trained k-Means clustering model.\")\n"
      ],
      "metadata": {
        "colab": {
          "base_uri": "https://localhost:8080/"
        },
        "id": "HrMPilfKHBCp",
        "outputId": "78b61967-9cc2-4c6b-fc32-d61457b70da1"
      },
      "execution_count": null,
      "outputs": [
        {
          "output_type": "stream",
          "name": "stdout",
          "text": [
            "Trained k-Means clustering model.\n"
          ]
        }
      ]
    },
    {
      "cell_type": "code",
      "source": [
        "#Perception for odd and even numbers\n",
        "def perceptron_odd_even():\n",
        "    inputs = np.array([[0], [1], [2], [3], [4]])\n",
        "    outputs = np.array([0, 1, 0, 1, 0])  # Even: 0, Odd: 1\n",
        "    weights = np.random.rand(1)\n",
        "    bias = np.random.rand(1)\n",
        "    lr = 0.1\n",
        "\n",
        "    for epoch in range(20):\n",
        "        for i, x in enumerate(inputs):\n",
        "            y = x * weights + bias\n",
        "            prediction = 1 if y > 0.5 else 0\n",
        "            error = outputs[i] - prediction\n",
        "            weights += lr * error * x\n",
        "            bias += lr * error\n",
        "\n",
        "    return weights, bias\n",
        "\n",
        "weights, bias = perceptron_odd_even()\n",
        "print(f\"Trained weights: {weights}, Bias: {bias}\")\n"
      ],
      "metadata": {
        "colab": {
          "base_uri": "https://localhost:8080/"
        },
        "id": "bulTkunUHLJK",
        "outputId": "efb78662-1735-46a2-9009-98aa465eeebe"
      },
      "execution_count": null,
      "outputs": [
        {
          "output_type": "stream",
          "name": "stdout",
          "text": [
            "Trained weights: [-0.3293323], Bias: [0.55029216]\n"
          ]
        }
      ]
    },
    {
      "cell_type": "code",
      "source": [
        "#BAM\n",
        "def BAM(ids, numbers):\n",
        "    memory = {}\n",
        "    for i, id_ in enumerate(ids):\n",
        "        memory[id_] = numbers[i]\n",
        "    return memory\n",
        "\n",
        "ids = ['A', 'B', 'C']\n",
        "numbers = ['123', '456', '789']\n",
        "memory = BAM(ids, numbers)\n",
        "print(memory)\n"
      ],
      "metadata": {
        "colab": {
          "base_uri": "https://localhost:8080/"
        },
        "id": "Jm204H_tHWz0",
        "outputId": "e09dff22-a121-44a8-9386-3e6bcd26a175"
      },
      "execution_count": null,
      "outputs": [
        {
          "output_type": "stream",
          "name": "stdout",
          "text": [
            "{'A': '123', 'B': '456', 'C': '789'}\n"
          ]
        }
      ]
    },
    {
      "cell_type": "code",
      "source": [
        "#HopField Network\n",
        "import numpy as np\n",
        "\n",
        "def Hopfield():\n",
        "    patterns = np.array([[-1, 1, -1], [1, -1, 1]])  # Example patterns\n",
        "    num_neurons = patterns.shape[1]\n",
        "\n",
        "    # Compute weight matrix\n",
        "    weights = np.zeros((num_neurons, num_neurons))\n",
        "    for pattern in patterns:\n",
        "        weights += np.outer(pattern, pattern)\n",
        "    np.fill_diagonal(weights, 0)  # No self-connections\n",
        "\n",
        "    def recall(input_pattern):\n",
        "        input_pattern = np.array(input_pattern)\n",
        "        output = input_pattern.copy()\n",
        "        for _ in range(10):  # Iterate for convergence\n",
        "            output = np.sign(np.dot(weights, output))\n",
        "        return output\n",
        "\n",
        "    return weights, recall\n",
        "\n",
        "weights, recall = Hopfield()\n",
        "test_pattern = [-1, 1, -1]\n",
        "recalled_pattern = recall(test_pattern)\n",
        "\n",
        "print(\"Weights matrix:\")\n",
        "print(weights)\n",
        "print(\"Input pattern:\", test_pattern)\n",
        "print(\"Recalled pattern:\", recalled_pattern)\n"
      ],
      "metadata": {
        "colab": {
          "base_uri": "https://localhost:8080/"
        },
        "id": "LqQnHYVtHd3W",
        "outputId": "6d827873-4dd9-4a3f-c164-52799a3a6438"
      },
      "execution_count": null,
      "outputs": [
        {
          "output_type": "stream",
          "name": "stdout",
          "text": [
            "Weights matrix:\n",
            "[[ 0. -2.  2.]\n",
            " [-2.  0. -2.]\n",
            " [ 2. -2.  0.]]\n",
            "Input pattern: [-1, 1, -1]\n",
            "Recalled pattern: [-1.  1. -1.]\n"
          ]
        }
      ]
    }
  ]
}