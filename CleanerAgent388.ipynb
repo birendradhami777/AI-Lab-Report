{
  "nbformat": 4,
  "nbformat_minor": 0,
  "metadata": {
    "colab": {
      "provenance": [],
      "authorship_tag": "ABX9TyNfFRXDythE8aXbWx8CyD6n",
      "include_colab_link": true
    },
    "kernelspec": {
      "name": "python3",
      "display_name": "Python 3"
    },
    "language_info": {
      "name": "python"
    }
  },
  "cells": [
    {
      "cell_type": "markdown",
      "metadata": {
        "id": "view-in-github",
        "colab_type": "text"
      },
      "source": [
        "<a href=\"https://colab.research.google.com/github/birendradhami777/AI-Lab-Report/blob/main/CleanerAgent388.ipynb\" target=\"_parent\"><img src=\"https://colab.research.google.com/assets/colab-badge.svg\" alt=\"Open In Colab\"/></a>"
      ]
    },
    {
      "cell_type": "code",
      "execution_count": 7,
      "metadata": {
        "colab": {
          "base_uri": "https://localhost:8080/"
        },
        "id": "xgccIFrC9qRk",
        "outputId": "d8dec4a0-4f5c-4a09-8543-85a3e9589c9b"
      },
      "outputs": [
        {
          "output_type": "stream",
          "name": "stdout",
          "text": [
            "[1, 0, 1, 0, 1]\n",
            "[0, 1, 0, 1, 0]\n",
            "[1, 0, 1, 0, 1]\n",
            "[0, 1, 0, 1, 0]\n",
            "[1, 0, 1, 0, 1]\n",
            "Cleaned cell at (0, 0)\n",
            "Moved to (0, 1)\n",
            "Cell at (0, 1) is already clean.\n",
            "Moved to (1, 1)\n",
            "Cleaned cell at (1, 1)\n",
            "Moved to (1, 0)\n",
            "Cell at (1, 0) is already clean.\n",
            "Moved to (0, 0)\n",
            "Cell at (0, 0) is already clean.\n",
            "[0, 0, 1, 0, 1]\n",
            "[0, 0, 0, 1, 0]\n",
            "[1, 0, 1, 0, 1]\n",
            "[0, 1, 0, 1, 0]\n",
            "[1, 0, 1, 0, 1]\n"
          ]
        }
      ],
      "source": [
        "class CleanerAgent:\n",
        "    def __init__(self, grid):\n",
        "        self.grid = grid  # 2D list representing the environment\n",
        "        self.position = (0, 0)  # Starting position of the agent\n",
        "        self.directions = [(0, 1), (1, 0), (0, -1), (-1, 0)]  # Right, Down, Left, Up\n",
        "\n",
        "    def move(self, direction):\n",
        "        \"\"\"Move the agent in the specified direction.\"\"\"\n",
        "        new_x = self.position[0] + direction[0]\n",
        "        new_y = self.position[1] + direction[1]\n",
        "\n",
        "        # Check if the new position is within the grid bounds\n",
        "        if 0 <= new_x < len(self.grid) and 0 <= new_y < len(self.grid[0]):\n",
        "            self.position = (new_x, new_y)\n",
        "            print(f\"Moved to {self.position}\")\n",
        "        else:\n",
        "            print(\"Move out of bounds!\")\n",
        "\n",
        "    def clean(self):\n",
        "        \"\"\"Clean the current cell.\"\"\"\n",
        "        x, y = self.position\n",
        "        if self.grid[x][y] == 1:  # Assuming 1 represents a dirty cell\n",
        "            self.grid[x][y] = 0  # Clean the cell (set to 0)\n",
        "            print(f\"Cleaned cell at {self.position}\")\n",
        "        else:\n",
        "            print(f\"Cell at {self.position} is already clean.\")\n",
        "\n",
        "    def get_status(self):\n",
        "        \"\"\"Get the current status of the grid.\"\"\"\n",
        "        for row in self.grid:\n",
        "            print(row)\n",
        "\n",
        "    def run(self):\n",
        "        \"\"\"Run the cleaning agent.\"\"\"\n",
        "        # Example movement and cleaning sequence\n",
        "        self.get_status()\n",
        "        self.clean()\n",
        "        self.move(self.directions[0])  # Move right\n",
        "        self.clean()\n",
        "        self.move(self.directions[1])  # Move down\n",
        "        self.clean()\n",
        "        self.move(self.directions[2])  # Move left\n",
        "        self.clean()\n",
        "        self.move(self.directions[3])  # Move up\n",
        "        self.clean()\n",
        "        self.get_status()\n",
        "\n",
        "\n",
        "# Example usage\n",
        "if __name__ == \"__main__\":\n",
        "    # Create a 5x5 grid with some dirty cells (1 represents dirty, 0 represents clean)\n",
        "    grid = [\n",
        "        [1, 0, 1, 0, 1],\n",
        "        [0, 1, 0, 1, 0],\n",
        "        [1, 0, 1, 0, 1],\n",
        "        [0, 1, 0, 1, 0],\n",
        "        [1, 0, 1, 0, 1]\n",
        "    ]\n",
        "\n",
        "    agent = CleanerAgent(grid)\n",
        "    agent.run()"
      ]
    }
  ]
}