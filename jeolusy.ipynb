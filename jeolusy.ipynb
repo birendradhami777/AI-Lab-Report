{
  "nbformat": 4,
  "nbformat_minor": 0,
  "metadata": {
    "colab": {
      "provenance": [],
      "authorship_tag": "ABX9TyMMGg7vofnRalYaWbojvAHk",
      "include_colab_link": true
    },
    "kernelspec": {
      "name": "python3",
      "display_name": "Python 3"
    },
    "language_info": {
      "name": "python"
    }
  },
  "cells": [
    {
      "cell_type": "markdown",
      "metadata": {
        "id": "view-in-github",
        "colab_type": "text"
      },
      "source": [
        "<a href=\"https://colab.research.google.com/github/birendradhami777/AI-Lab-Report/blob/main/jeolusy.ipynb\" target=\"_parent\"><img src=\"https://colab.research.google.com/assets/colab-badge.svg\" alt=\"Open In Colab\"/></a>"
      ]
    },
    {
      "cell_type": "code",
      "execution_count": 1,
      "metadata": {
        "colab": {
          "base_uri": "https://localhost:8080/"
        },
        "id": "cktpww1PQ41o",
        "outputId": "fe39e4c1-7baf-4624-8faf-eaaca2b67231"
      },
      "outputs": [
        {
          "output_type": "stream",
          "name": "stdout",
          "text": [
            "Alice is jealous of Diana because they both love Bob.\n",
            "Bob is jealous of Charlie because they both love Diana.\n",
            "Diana is jealous of Alice because they both love Bob.\n"
          ]
        }
      ],
      "source": [
        "# Define relationships# Define relationships\n",
        "people = [\n",
        "    {\"name\": \"Alice\", \"gender\": \"female\"},\n",
        "    {\"name\": \"Bob\", \"gender\": \"male\"},\n",
        "    {\"name\": \"Charlie\", \"gender\": \"male\"},\n",
        "    {\"name\": \"Diana\", \"gender\": \"female\"}\n",
        "]\n",
        "\n",
        "# Define a function to check jealousy\n",
        "def is_jealousy(person1, person2, loved_person):\n",
        "    \"\"\"\n",
        "    Determines jealousy if two people love the same person of opposite gender.\n",
        "    \"\"\"\n",
        "    if (person1[\"gender\"] != loved_person[\"gender\"] and\n",
        "        person2[\"gender\"] != loved_person[\"gender\"] and\n",
        "        person1 != person2):\n",
        "        return True\n",
        "    return False\n",
        "\n",
        "# Define loves relationship\n",
        "loves = {\n",
        "    \"Alice\": \"Bob\",\n",
        "    \"Charlie\": \"Bob\",\n",
        "    \"Bob\": \"Diana\",\n",
        "    \"Diana\": \"Charlie\"\n",
        "}\n",
        "\n",
        "# Check jealousy\n",
        "for person1 in people:\n",
        "    for person2 in people:\n",
        "       if person1[\"name\"] in loves and person2[\"name\"] in loves:\n",
        "         # Get the person each individual loves\n",
        "         loved_person_name1 = loves[person1[\"name\"]]\n",
        "         loved_person_name2 = loves[person2[\"name\"]]\n",
        "           # If they love the same person\n",
        "       if loved_person_name1 == loved_person_name2:\n",
        "             loved_person = next(p for p in people if p[\"name\"] == loved_person_name1)\n",
        "       if is_jealousy(person1, person2, loved_person):\n",
        "             print(f\"{person1['name']} is jealous of {person2['name']} because they both love {loved_person['name']}.\")\n",
        "\n",
        ""
      ]
    }
  ]
}